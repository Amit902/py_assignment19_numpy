{
  "nbformat": 4,
  "nbformat_minor": 0,
  "metadata": {
    "colab": {
      "name": "Assignment_19.ipynb",
      "version": "0.3.2",
      "views": {},
      "default_view": {},
      "provenance": []
    },
    "kernelspec": {
      "name": "python3",
      "display_name": "Python 3"
    }
  },
  "cells": [
    {
      "metadata": {
        "id": "qGyY3WS9OM4N",
        "colab_type": "code",
        "colab": {
          "autoexec": {
            "startup": false,
            "wait_interval": 0
          },
          "base_uri": "https://localhost:8080/",
          "height": 238
        },
        "outputId": "345fdbfb-e83f-472a-db61-dea445fe7028",
        "executionInfo": {
          "status": "ok",
          "timestamp": 1530800534162,
          "user_tz": -330,
          "elapsed": 1247,
          "user": {
            "displayName": "Amit Kumar Ram",
            "photoUrl": "//lh4.googleusercontent.com/-pAx5zIs4KE0/AAAAAAAAAAI/AAAAAAAAGVM/w6hW6_-bnYE/s50-c-k-no/photo.jpg",
            "userId": "116588298250582609394"
          }
        }
      },
      "cell_type": "code",
      "source": [
        "#Q.1 - Create a numpy array with 10 elements of the shape(10,1) using np.random and find out the mean of the elements using basic numpy functions.\n",
        "\n",
        "import numpy as np\n",
        "x=np.random.randint(0,150,(10,1))\n",
        "print (\"x= \",x)\n",
        "print(\"mean of x is \",x.mean())\n",
        "print(\"\\n\")\n"
      ],
      "execution_count": 28,
      "outputs": [
        {
          "output_type": "stream",
          "text": [
            "x=  [[ 13]\n",
            " [ 44]\n",
            " [ 35]\n",
            " [ 37]\n",
            " [ 28]\n",
            " [140]\n",
            " [116]\n",
            " [ 35]\n",
            " [ 29]\n",
            " [ 82]]\n",
            "mean of x is  55.9\n",
            "\n",
            "\n"
          ],
          "name": "stdout"
        }
      ]
    },
    {
      "metadata": {
        "id": "lg_s8MGBqJQE",
        "colab_type": "code",
        "colab": {
          "autoexec": {
            "startup": false,
            "wait_interval": 0
          },
          "base_uri": "https://localhost:8080/",
          "height": 391
        },
        "outputId": "56b22a8c-cba4-4dc7-c530-a80c7072a304",
        "executionInfo": {
          "status": "ok",
          "timestamp": 1530800535250,
          "user_tz": -330,
          "elapsed": 876,
          "user": {
            "displayName": "Amit Kumar Ram",
            "photoUrl": "//lh4.googleusercontent.com/-pAx5zIs4KE0/AAAAAAAAAAI/AAAAAAAAGVM/w6hW6_-bnYE/s50-c-k-no/photo.jpg",
            "userId": "116588298250582609394"
          }
        }
      },
      "cell_type": "code",
      "source": [
        "#Q.2 - Create a numpy array with 20 elements of the shape(20,1) using np.random find the variance and standard deviation of the elements.\n",
        "import numpy as np\n",
        "x=np.random.randint(0,150,(20,1))\n",
        "print(\"x is\",x)\n",
        "print(\"varience of x is = \",x.var())\n",
        "print(\"standard deviation is = \",x.std())\n"
      ],
      "execution_count": 29,
      "outputs": [
        {
          "output_type": "stream",
          "text": [
            "x is [[ 98]\n",
            " [ 94]\n",
            " [ 82]\n",
            " [ 99]\n",
            " [ 59]\n",
            " [ 37]\n",
            " [ 37]\n",
            " [ 31]\n",
            " [112]\n",
            " [ 94]\n",
            " [ 37]\n",
            " [104]\n",
            " [136]\n",
            " [140]\n",
            " [ 91]\n",
            " [147]\n",
            " [ 35]\n",
            " [ 13]\n",
            " [ 79]\n",
            " [ 11]]\n",
            "varience of x is =  1674.36\n",
            "standard deviation is =  40.918944267906035\n"
          ],
          "name": "stdout"
        }
      ]
    },
    {
      "metadata": {
        "id": "MXgRL036rCTc",
        "colab_type": "code",
        "colab": {
          "autoexec": {
            "startup": false,
            "wait_interval": 0
          },
          "base_uri": "https://localhost:8080/",
          "height": 544
        },
        "outputId": "3c1e461f-0134-4ce6-85c1-0a9363cb91f1",
        "executionInfo": {
          "status": "ok",
          "timestamp": 1530800536289,
          "user_tz": -330,
          "elapsed": 882,
          "user": {
            "displayName": "Amit Kumar Ram",
            "photoUrl": "//lh4.googleusercontent.com/-pAx5zIs4KE0/AAAAAAAAAAI/AAAAAAAAGVM/w6hW6_-bnYE/s50-c-k-no/photo.jpg",
            "userId": "116588298250582609394"
          }
        }
      },
      "cell_type": "code",
      "source": [
        "#Q.3 - Create a numpy array A of shape(10,20) and B of shape (20,25) using np.random. Print the matrix which is the matrix multiplication of A and B. The shape of the new matrix should be (10,25). Using basic numpy math functions only find the sum of all the elements of the new matrix.\n",
        "\n",
        "import numpy as np\n",
        "A=np.random.randint(0,200,(10,20),int)\n",
        "B=np.random.randint(0,200,(20,25),int)\n",
        "x=np.matmul(A,B)\n",
        "print(x)\n",
        "print(\"Sum of x is = \",x.sum())"
      ],
      "execution_count": 30,
      "outputs": [
        {
          "output_type": "stream",
          "text": [
            "[[197690 162458 243938 208239 205250 176792 220601 129971 165520 169087\n",
            "  191975 164894 132657 208496 182974 183292 182039 149484 197946 220605\n",
            "  189122 208148 203472 216163 198049]\n",
            " [217698 173421 285559 223893 215124 182929 212354 180985 182748 179013\n",
            "  214721 178921 155910 253645 206106 191718 182272 159258 218914 220827\n",
            "  168444 220680 222853 227283 219521]\n",
            " [175165 183281 245293 210583 193247 197523 209889 175355 175447 193546\n",
            "  224322 176442 178403 231456 189596 196961 177650 154667 221461 217444\n",
            "  152588 218334 225658 205275 220170]\n",
            " [151412 130452 181589 165342 177280 147491 154911 117788 127480 135860\n",
            "  164685 175797 146369 200404 154955 124806 150293 127415 135367 148194\n",
            "  139214 174859 156267 169989 154308]\n",
            " [241871 202566 295322 218144 236563 231068 245269 205214 234395 218908\n",
            "  276567 172341 189867 255715 198457 207405 220138 219727 263127 266098\n",
            "  181910 245911 290735 243649 223887]\n",
            " [182963 199346 225145 221442 178160 193305 180377 160998 179926 186223\n",
            "  236252 176603 183925 224439 177545 168752 166405 159078 214791 171386\n",
            "  146250 222352 196887 210432 186101]\n",
            " [265203 233029 289050 228221 287469 260560 288826 201920 224805 256265\n",
            "  282405 217996 232999 296494 250848 205016 274981 238528 258121 280204\n",
            "  223262 290273 311056 275090 273702]\n",
            " [191726 170424 246239 184692 208950 263656 225777 193576 229104 184758\n",
            "  249844 181589 168761 246988 162818 198224 203087 182448 219656 258265\n",
            "  151597 238072 285595 198699 243060]\n",
            " [238960 191506 297052 223348 243765 234694 253137 200413 225426 200556\n",
            "  265642 203072 209342 287154 200711 186918 214304 219896 229660 262813\n",
            "  185831 235857 291077 239539 237232]\n",
            " [214628 174904 292642 224840 232676 236781 244858 176407 219705 185656\n",
            "  244806 211264 166697 262362 205634 199867 202334 175440 213690 270820\n",
            "  188102 237096 240609 231070 281121]]\n",
            "Sum of x is =  52145721\n"
          ],
          "name": "stdout"
        }
      ]
    },
    {
      "metadata": {
        "id": "alvx6eRtxHpi",
        "colab_type": "code",
        "colab": {
          "autoexec": {
            "startup": false,
            "wait_interval": 0
          },
          "base_uri": "https://localhost:8080/",
          "height": 187
        },
        "outputId": "41661d97-6806-4ebc-ce5f-1afd984b53e6",
        "executionInfo": {
          "status": "ok",
          "timestamp": 1530800548730,
          "user_tz": -330,
          "elapsed": 990,
          "user": {
            "displayName": "Amit Kumar Ram",
            "photoUrl": "//lh4.googleusercontent.com/-pAx5zIs4KE0/AAAAAAAAAAI/AAAAAAAAGVM/w6hW6_-bnYE/s50-c-k-no/photo.jpg",
            "userId": "116588298250582609394"
          }
        }
      },
      "cell_type": "code",
      "source": [
        "#Q.4 - Create a numpy array A of shape(10,1).Using the basic operations of the numpy array generate an array of shape(10,1) such that each element is the following function applied on each element of A. \n",
        "\n",
        "import numpy as np\n",
        "\n",
        "a=np.random.randint(0,150,(10,1))\n",
        "def fun(x):\n",
        "    y=1/(1+np.exp(-x))\n",
        "    return y\n",
        "  \n",
        "list=[]\n",
        "for x in a:\n",
        "    list.append(fun(x))\n",
        "b=np.array(list)\n",
        "print(b)"
      ],
      "execution_count": 34,
      "outputs": [
        {
          "output_type": "stream",
          "text": [
            "[[1.        ]\n",
            " [1.        ]\n",
            " [1.        ]\n",
            " [0.95257413]\n",
            " [1.        ]\n",
            " [0.99987661]\n",
            " [1.        ]\n",
            " [0.99752738]\n",
            " [1.        ]\n",
            " [1.        ]]\n"
          ],
          "name": "stdout"
        }
      ]
    }
  ]
}